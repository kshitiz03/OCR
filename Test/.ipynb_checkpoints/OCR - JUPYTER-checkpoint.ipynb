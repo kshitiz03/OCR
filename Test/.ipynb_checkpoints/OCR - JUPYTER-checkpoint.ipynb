{
 "cells": [
  {
   "cell_type": "code",
   "execution_count": 1,
   "metadata": {},
   "outputs": [],
   "source": [
    "#Basic Dependencies\n",
    "import numpy as np\n",
    "import pandas as pd\n",
    "import matplotlib.pyplot as plt\n",
    "import requests\n",
    "import json\n",
    "import cv2\n",
    "import os\n",
    "import PIL"
   ]
  },
  {
   "cell_type": "code",
   "execution_count": 2,
   "metadata": {},
   "outputs": [],
   "source": [
    "#Dependencies to process pdf\n",
    "import PyPDF2 as pdf"
   ]
  },
  {
   "cell_type": "code",
   "execution_count": 3,
   "metadata": {},
   "outputs": [],
   "source": [
    "def ocr_space_file(filename, overlay=False, api_key='0c265702be88957', language='eng'):\n",
    "    \"\"\" OCR.space API request with local file.\n",
    "        Python3.5 - not tested on 2.7\n",
    "    :param filename: Your file path & name.\n",
    "    :param overlay: Is OCR.space overlay required in your response.\n",
    "                    Defaults to False.\n",
    "    :param api_key: OCR.space API key.\n",
    "                    Defaults to 'helloworld'.\n",
    "    :param language: Language code to be used in OCR.\n",
    "                    List of available language codes can be found on https://ocr.space/OCRAPI\n",
    "                    Defaults to 'en'.\n",
    "    :return: Result in JSON format.\n",
    "    \"\"\"\n",
    "\n",
    "    payload = {'isOverlayRequired': overlay,\n",
    "               'apikey': api_key,\n",
    "               'language': language,\n",
    "               }\n",
    "    with open(filename, 'rb') as f:\n",
    "        r = requests.post('https://api.ocr.space/parse/image',\n",
    "                          files={filename: f},\n",
    "                          data=payload,\n",
    "                          )\n",
    "    return r.content.decode()"
   ]
  },
  {
   "cell_type": "code",
   "execution_count": 4,
   "metadata": {},
   "outputs": [],
   "source": [
    "def read_text(filename):\n",
    "    text_json = ocr_space_file(filename)\n",
    "    text = json.loads(text_json)\n",
    "    text = text['ParsedResults'][0].get('ParsedText')\n",
    "    return text"
   ]
  },
  {
   "cell_type": "code",
   "execution_count": 5,
   "metadata": {},
   "outputs": [],
   "source": [
    "def preprocess_image(filename):\n",
    "    image = PIL.Image.open(filename).convert('L')\n",
    "    filename = filename.split('.')[0]+'_grey.jpeg'\n",
    "    image.save(filename)\n",
    "    return filename"
   ]
  },
  {
   "cell_type": "code",
   "execution_count": 6,
   "metadata": {},
   "outputs": [],
   "source": [
    "def save_file(filename_open):\n",
    "    filename_saved = filename_open.split('.')[0] + '.txt'\n",
    "    with open(filename_saved, mode = 'a') as f:\n",
    "        filename_open = preprocess_image(filename_open)\n",
    "        text = read_text(filename_open)\n",
    "        os.remove(filename_open)\n",
    "        f.write(text)        "
   ]
  },
  {
   "cell_type": "code",
   "execution_count": 7,
   "metadata": {},
   "outputs": [
    {
     "name": "stdout",
     "output_type": "stream",
     "text": [
      ".ipynb_checkpoints\n",
      "OCR - JUPYTER.ipynb\n",
      "ocr1.tiff\n",
      "ocr1.txt\n",
      "ocr2.jpeg\n",
      "ocr2.txt\n",
      "OCR3.png\n",
      "OCR3.txt\n"
     ]
    }
   ],
   "source": [
    "items = os.listdir()\n",
    "for item in items:\n",
    "    print(item)\n",
    "    try:\n",
    "        name = item.split('.')[1]\n",
    "        if name == 'png' or name == 'jpeg' or name == 'jpg' or name == 'tiff':\n",
    "            save_file(item)\n",
    "    except:\n",
    "        print('error with '+item)\n",
    "        \n"
   ]
  }
 ],
 "metadata": {
  "kernelspec": {
   "display_name": "Python 3",
   "language": "python",
   "name": "python3"
  },
  "language_info": {
   "codemirror_mode": {
    "name": "ipython",
    "version": 3
   },
   "file_extension": ".py",
   "mimetype": "text/x-python",
   "name": "python",
   "nbconvert_exporter": "python",
   "pygments_lexer": "ipython3",
   "version": "3.6.4"
  }
 },
 "nbformat": 4,
 "nbformat_minor": 2
}
